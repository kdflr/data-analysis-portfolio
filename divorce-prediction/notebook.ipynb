{
  "nbformat": 4,
  "nbformat_minor": 0,
  "metadata": {
    "colab": {
      "provenance": []
    },
    "kernelspec": {
      "name": "python3",
      "display_name": "Python 3"
    },
    "language_info": {
      "name": "python"
    }
  },
  "cells": [
    {
      "cell_type": "markdown",
      "source": [
        "# Импорт библиотек"
      ],
      "metadata": {
        "id": "epey1K5Hmi5S"
      }
    },
    {
      "cell_type": "code",
      "execution_count": 169,
      "metadata": {
        "id": "YHfCR325bYIX"
      },
      "outputs": [],
      "source": [
        "import pandas as pd\n",
        "import seaborn as sns\n",
        "from sklearn.decomposition import PCA\n",
        "from sklearn.neighbors import KNeighborsClassifier\n",
        "from sklearn.linear_model import LogisticRegression\n",
        "from sklearn.svm import SVC\n",
        "from sklearn.tree import DecisionTreeClassifier\n",
        "from sklearn.metrics import f1_score\n",
        "from sklearn.model_selection import train_test_split\n",
        "df = pd.read_csv('divorce.csv', delimiter=';')"
      ]
    },
    {
      "cell_type": "markdown",
      "source": [
        "# Обработка данных"
      ],
      "metadata": {
        "id": "M70feKxQmlCy"
      }
    },
    {
      "cell_type": "code",
      "source": [
        "df"
      ],
      "metadata": {
        "colab": {
          "base_uri": "https://localhost:8080/",
          "height": 444
        },
        "id": "j3k6CIN2dKTA",
        "outputId": "f4c6afaa-371b-4624-de37-eeeee3b63191"
      },
      "execution_count": 170,
      "outputs": [
        {
          "output_type": "execute_result",
          "data": {
            "text/plain": [
              "     Atr1  Atr2  Atr3  Atr4  Atr5  Atr6  Atr7  Atr8  Atr9  Atr10  ...  Atr46  \\\n",
              "0       2     2     4     1     0     0     0     0     0      0  ...      2   \n",
              "1       4     4     4     4     4     0     0     4     4      4  ...      2   \n",
              "2       2     2     2     2     1     3     2     1     1      2  ...      3   \n",
              "3       3     2     3     2     3     3     3     3     3      3  ...      2   \n",
              "4       2     2     1     1     1     1     0     0     0      0  ...      2   \n",
              "..    ...   ...   ...   ...   ...   ...   ...   ...   ...    ...  ...    ...   \n",
              "165     0     0     0     0     0     0     0     0     0      0  ...      1   \n",
              "166     0     0     0     0     0     0     0     0     0      0  ...      4   \n",
              "167     1     1     0     0     0     0     0     0     0      1  ...      3   \n",
              "168     0     0     0     0     0     0     0     0     0      0  ...      3   \n",
              "169     0     0     0     0     0     0     0     1     0      0  ...      3   \n",
              "\n",
              "     Atr47  Atr48  Atr49  Atr50  Atr51  Atr52  Atr53  Atr54  Class  \n",
              "0        1      3      3      3      2      3      2      1      1  \n",
              "1        2      3      4      4      4      4      2      2      1  \n",
              "2        2      3      1      1      1      2      2      2      1  \n",
              "3        2      3      3      3      3      2      2      2      1  \n",
              "4        1      2      3      2      2      2      1      0      1  \n",
              "..     ...    ...    ...    ...    ...    ...    ...    ...    ...  \n",
              "165      0      4      1      1      4      2      2      2      0  \n",
              "166      1      2      2      2      2      3      2      2      0  \n",
              "167      0      2      0      1      1      3      0      0      0  \n",
              "168      3      2      2      3      2      4      3      1      0  \n",
              "169      4      4      0      1      3      3      3      1      0  \n",
              "\n",
              "[170 rows x 55 columns]"
            ],
            "text/html": [
              "\n",
              "  <div id=\"df-773cc023-aa5f-4b97-abbb-46ccb6c4bcf4\" class=\"colab-df-container\">\n",
              "    <div>\n",
              "<style scoped>\n",
              "    .dataframe tbody tr th:only-of-type {\n",
              "        vertical-align: middle;\n",
              "    }\n",
              "\n",
              "    .dataframe tbody tr th {\n",
              "        vertical-align: top;\n",
              "    }\n",
              "\n",
              "    .dataframe thead th {\n",
              "        text-align: right;\n",
              "    }\n",
              "</style>\n",
              "<table border=\"1\" class=\"dataframe\">\n",
              "  <thead>\n",
              "    <tr style=\"text-align: right;\">\n",
              "      <th></th>\n",
              "      <th>Atr1</th>\n",
              "      <th>Atr2</th>\n",
              "      <th>Atr3</th>\n",
              "      <th>Atr4</th>\n",
              "      <th>Atr5</th>\n",
              "      <th>Atr6</th>\n",
              "      <th>Atr7</th>\n",
              "      <th>Atr8</th>\n",
              "      <th>Atr9</th>\n",
              "      <th>Atr10</th>\n",
              "      <th>...</th>\n",
              "      <th>Atr46</th>\n",
              "      <th>Atr47</th>\n",
              "      <th>Atr48</th>\n",
              "      <th>Atr49</th>\n",
              "      <th>Atr50</th>\n",
              "      <th>Atr51</th>\n",
              "      <th>Atr52</th>\n",
              "      <th>Atr53</th>\n",
              "      <th>Atr54</th>\n",
              "      <th>Class</th>\n",
              "    </tr>\n",
              "  </thead>\n",
              "  <tbody>\n",
              "    <tr>\n",
              "      <th>0</th>\n",
              "      <td>2</td>\n",
              "      <td>2</td>\n",
              "      <td>4</td>\n",
              "      <td>1</td>\n",
              "      <td>0</td>\n",
              "      <td>0</td>\n",
              "      <td>0</td>\n",
              "      <td>0</td>\n",
              "      <td>0</td>\n",
              "      <td>0</td>\n",
              "      <td>...</td>\n",
              "      <td>2</td>\n",
              "      <td>1</td>\n",
              "      <td>3</td>\n",
              "      <td>3</td>\n",
              "      <td>3</td>\n",
              "      <td>2</td>\n",
              "      <td>3</td>\n",
              "      <td>2</td>\n",
              "      <td>1</td>\n",
              "      <td>1</td>\n",
              "    </tr>\n",
              "    <tr>\n",
              "      <th>1</th>\n",
              "      <td>4</td>\n",
              "      <td>4</td>\n",
              "      <td>4</td>\n",
              "      <td>4</td>\n",
              "      <td>4</td>\n",
              "      <td>0</td>\n",
              "      <td>0</td>\n",
              "      <td>4</td>\n",
              "      <td>4</td>\n",
              "      <td>4</td>\n",
              "      <td>...</td>\n",
              "      <td>2</td>\n",
              "      <td>2</td>\n",
              "      <td>3</td>\n",
              "      <td>4</td>\n",
              "      <td>4</td>\n",
              "      <td>4</td>\n",
              "      <td>4</td>\n",
              "      <td>2</td>\n",
              "      <td>2</td>\n",
              "      <td>1</td>\n",
              "    </tr>\n",
              "    <tr>\n",
              "      <th>2</th>\n",
              "      <td>2</td>\n",
              "      <td>2</td>\n",
              "      <td>2</td>\n",
              "      <td>2</td>\n",
              "      <td>1</td>\n",
              "      <td>3</td>\n",
              "      <td>2</td>\n",
              "      <td>1</td>\n",
              "      <td>1</td>\n",
              "      <td>2</td>\n",
              "      <td>...</td>\n",
              "      <td>3</td>\n",
              "      <td>2</td>\n",
              "      <td>3</td>\n",
              "      <td>1</td>\n",
              "      <td>1</td>\n",
              "      <td>1</td>\n",
              "      <td>2</td>\n",
              "      <td>2</td>\n",
              "      <td>2</td>\n",
              "      <td>1</td>\n",
              "    </tr>\n",
              "    <tr>\n",
              "      <th>3</th>\n",
              "      <td>3</td>\n",
              "      <td>2</td>\n",
              "      <td>3</td>\n",
              "      <td>2</td>\n",
              "      <td>3</td>\n",
              "      <td>3</td>\n",
              "      <td>3</td>\n",
              "      <td>3</td>\n",
              "      <td>3</td>\n",
              "      <td>3</td>\n",
              "      <td>...</td>\n",
              "      <td>2</td>\n",
              "      <td>2</td>\n",
              "      <td>3</td>\n",
              "      <td>3</td>\n",
              "      <td>3</td>\n",
              "      <td>3</td>\n",
              "      <td>2</td>\n",
              "      <td>2</td>\n",
              "      <td>2</td>\n",
              "      <td>1</td>\n",
              "    </tr>\n",
              "    <tr>\n",
              "      <th>4</th>\n",
              "      <td>2</td>\n",
              "      <td>2</td>\n",
              "      <td>1</td>\n",
              "      <td>1</td>\n",
              "      <td>1</td>\n",
              "      <td>1</td>\n",
              "      <td>0</td>\n",
              "      <td>0</td>\n",
              "      <td>0</td>\n",
              "      <td>0</td>\n",
              "      <td>...</td>\n",
              "      <td>2</td>\n",
              "      <td>1</td>\n",
              "      <td>2</td>\n",
              "      <td>3</td>\n",
              "      <td>2</td>\n",
              "      <td>2</td>\n",
              "      <td>2</td>\n",
              "      <td>1</td>\n",
              "      <td>0</td>\n",
              "      <td>1</td>\n",
              "    </tr>\n",
              "    <tr>\n",
              "      <th>...</th>\n",
              "      <td>...</td>\n",
              "      <td>...</td>\n",
              "      <td>...</td>\n",
              "      <td>...</td>\n",
              "      <td>...</td>\n",
              "      <td>...</td>\n",
              "      <td>...</td>\n",
              "      <td>...</td>\n",
              "      <td>...</td>\n",
              "      <td>...</td>\n",
              "      <td>...</td>\n",
              "      <td>...</td>\n",
              "      <td>...</td>\n",
              "      <td>...</td>\n",
              "      <td>...</td>\n",
              "      <td>...</td>\n",
              "      <td>...</td>\n",
              "      <td>...</td>\n",
              "      <td>...</td>\n",
              "      <td>...</td>\n",
              "      <td>...</td>\n",
              "    </tr>\n",
              "    <tr>\n",
              "      <th>165</th>\n",
              "      <td>0</td>\n",
              "      <td>0</td>\n",
              "      <td>0</td>\n",
              "      <td>0</td>\n",
              "      <td>0</td>\n",
              "      <td>0</td>\n",
              "      <td>0</td>\n",
              "      <td>0</td>\n",
              "      <td>0</td>\n",
              "      <td>0</td>\n",
              "      <td>...</td>\n",
              "      <td>1</td>\n",
              "      <td>0</td>\n",
              "      <td>4</td>\n",
              "      <td>1</td>\n",
              "      <td>1</td>\n",
              "      <td>4</td>\n",
              "      <td>2</td>\n",
              "      <td>2</td>\n",
              "      <td>2</td>\n",
              "      <td>0</td>\n",
              "    </tr>\n",
              "    <tr>\n",
              "      <th>166</th>\n",
              "      <td>0</td>\n",
              "      <td>0</td>\n",
              "      <td>0</td>\n",
              "      <td>0</td>\n",
              "      <td>0</td>\n",
              "      <td>0</td>\n",
              "      <td>0</td>\n",
              "      <td>0</td>\n",
              "      <td>0</td>\n",
              "      <td>0</td>\n",
              "      <td>...</td>\n",
              "      <td>4</td>\n",
              "      <td>1</td>\n",
              "      <td>2</td>\n",
              "      <td>2</td>\n",
              "      <td>2</td>\n",
              "      <td>2</td>\n",
              "      <td>3</td>\n",
              "      <td>2</td>\n",
              "      <td>2</td>\n",
              "      <td>0</td>\n",
              "    </tr>\n",
              "    <tr>\n",
              "      <th>167</th>\n",
              "      <td>1</td>\n",
              "      <td>1</td>\n",
              "      <td>0</td>\n",
              "      <td>0</td>\n",
              "      <td>0</td>\n",
              "      <td>0</td>\n",
              "      <td>0</td>\n",
              "      <td>0</td>\n",
              "      <td>0</td>\n",
              "      <td>1</td>\n",
              "      <td>...</td>\n",
              "      <td>3</td>\n",
              "      <td>0</td>\n",
              "      <td>2</td>\n",
              "      <td>0</td>\n",
              "      <td>1</td>\n",
              "      <td>1</td>\n",
              "      <td>3</td>\n",
              "      <td>0</td>\n",
              "      <td>0</td>\n",
              "      <td>0</td>\n",
              "    </tr>\n",
              "    <tr>\n",
              "      <th>168</th>\n",
              "      <td>0</td>\n",
              "      <td>0</td>\n",
              "      <td>0</td>\n",
              "      <td>0</td>\n",
              "      <td>0</td>\n",
              "      <td>0</td>\n",
              "      <td>0</td>\n",
              "      <td>0</td>\n",
              "      <td>0</td>\n",
              "      <td>0</td>\n",
              "      <td>...</td>\n",
              "      <td>3</td>\n",
              "      <td>3</td>\n",
              "      <td>2</td>\n",
              "      <td>2</td>\n",
              "      <td>3</td>\n",
              "      <td>2</td>\n",
              "      <td>4</td>\n",
              "      <td>3</td>\n",
              "      <td>1</td>\n",
              "      <td>0</td>\n",
              "    </tr>\n",
              "    <tr>\n",
              "      <th>169</th>\n",
              "      <td>0</td>\n",
              "      <td>0</td>\n",
              "      <td>0</td>\n",
              "      <td>0</td>\n",
              "      <td>0</td>\n",
              "      <td>0</td>\n",
              "      <td>0</td>\n",
              "      <td>1</td>\n",
              "      <td>0</td>\n",
              "      <td>0</td>\n",
              "      <td>...</td>\n",
              "      <td>3</td>\n",
              "      <td>4</td>\n",
              "      <td>4</td>\n",
              "      <td>0</td>\n",
              "      <td>1</td>\n",
              "      <td>3</td>\n",
              "      <td>3</td>\n",
              "      <td>3</td>\n",
              "      <td>1</td>\n",
              "      <td>0</td>\n",
              "    </tr>\n",
              "  </tbody>\n",
              "</table>\n",
              "<p>170 rows × 55 columns</p>\n",
              "</div>\n",
              "    <div class=\"colab-df-buttons\">\n",
              "\n",
              "  <div class=\"colab-df-container\">\n",
              "    <button class=\"colab-df-convert\" onclick=\"convertToInteractive('df-773cc023-aa5f-4b97-abbb-46ccb6c4bcf4')\"\n",
              "            title=\"Convert this dataframe to an interactive table.\"\n",
              "            style=\"display:none;\">\n",
              "\n",
              "  <svg xmlns=\"http://www.w3.org/2000/svg\" height=\"24px\" viewBox=\"0 -960 960 960\">\n",
              "    <path d=\"M120-120v-720h720v720H120Zm60-500h600v-160H180v160Zm220 220h160v-160H400v160Zm0 220h160v-160H400v160ZM180-400h160v-160H180v160Zm440 0h160v-160H620v160ZM180-180h160v-160H180v160Zm440 0h160v-160H620v160Z\"/>\n",
              "  </svg>\n",
              "    </button>\n",
              "\n",
              "  <style>\n",
              "    .colab-df-container {\n",
              "      display:flex;\n",
              "      gap: 12px;\n",
              "    }\n",
              "\n",
              "    .colab-df-convert {\n",
              "      background-color: #E8F0FE;\n",
              "      border: none;\n",
              "      border-radius: 50%;\n",
              "      cursor: pointer;\n",
              "      display: none;\n",
              "      fill: #1967D2;\n",
              "      height: 32px;\n",
              "      padding: 0 0 0 0;\n",
              "      width: 32px;\n",
              "    }\n",
              "\n",
              "    .colab-df-convert:hover {\n",
              "      background-color: #E2EBFA;\n",
              "      box-shadow: 0px 1px 2px rgba(60, 64, 67, 0.3), 0px 1px 3px 1px rgba(60, 64, 67, 0.15);\n",
              "      fill: #174EA6;\n",
              "    }\n",
              "\n",
              "    .colab-df-buttons div {\n",
              "      margin-bottom: 4px;\n",
              "    }\n",
              "\n",
              "    [theme=dark] .colab-df-convert {\n",
              "      background-color: #3B4455;\n",
              "      fill: #D2E3FC;\n",
              "    }\n",
              "\n",
              "    [theme=dark] .colab-df-convert:hover {\n",
              "      background-color: #434B5C;\n",
              "      box-shadow: 0px 1px 3px 1px rgba(0, 0, 0, 0.15);\n",
              "      filter: drop-shadow(0px 1px 2px rgba(0, 0, 0, 0.3));\n",
              "      fill: #FFFFFF;\n",
              "    }\n",
              "  </style>\n",
              "\n",
              "    <script>\n",
              "      const buttonEl =\n",
              "        document.querySelector('#df-773cc023-aa5f-4b97-abbb-46ccb6c4bcf4 button.colab-df-convert');\n",
              "      buttonEl.style.display =\n",
              "        google.colab.kernel.accessAllowed ? 'block' : 'none';\n",
              "\n",
              "      async function convertToInteractive(key) {\n",
              "        const element = document.querySelector('#df-773cc023-aa5f-4b97-abbb-46ccb6c4bcf4');\n",
              "        const dataTable =\n",
              "          await google.colab.kernel.invokeFunction('convertToInteractive',\n",
              "                                                    [key], {});\n",
              "        if (!dataTable) return;\n",
              "\n",
              "        const docLinkHtml = 'Like what you see? Visit the ' +\n",
              "          '<a target=\"_blank\" href=https://colab.research.google.com/notebooks/data_table.ipynb>data table notebook</a>'\n",
              "          + ' to learn more about interactive tables.';\n",
              "        element.innerHTML = '';\n",
              "        dataTable['output_type'] = 'display_data';\n",
              "        await google.colab.output.renderOutput(dataTable, element);\n",
              "        const docLink = document.createElement('div');\n",
              "        docLink.innerHTML = docLinkHtml;\n",
              "        element.appendChild(docLink);\n",
              "      }\n",
              "    </script>\n",
              "  </div>\n",
              "\n",
              "\n",
              "<div id=\"df-86f4a965-be34-47d4-8d17-35dbb0c1ead7\">\n",
              "  <button class=\"colab-df-quickchart\" onclick=\"quickchart('df-86f4a965-be34-47d4-8d17-35dbb0c1ead7')\"\n",
              "            title=\"Suggest charts\"\n",
              "            style=\"display:none;\">\n",
              "\n",
              "<svg xmlns=\"http://www.w3.org/2000/svg\" height=\"24px\"viewBox=\"0 0 24 24\"\n",
              "     width=\"24px\">\n",
              "    <g>\n",
              "        <path d=\"M19 3H5c-1.1 0-2 .9-2 2v14c0 1.1.9 2 2 2h14c1.1 0 2-.9 2-2V5c0-1.1-.9-2-2-2zM9 17H7v-7h2v7zm4 0h-2V7h2v10zm4 0h-2v-4h2v4z\"/>\n",
              "    </g>\n",
              "</svg>\n",
              "  </button>\n",
              "\n",
              "<style>\n",
              "  .colab-df-quickchart {\n",
              "      --bg-color: #E8F0FE;\n",
              "      --fill-color: #1967D2;\n",
              "      --hover-bg-color: #E2EBFA;\n",
              "      --hover-fill-color: #174EA6;\n",
              "      --disabled-fill-color: #AAA;\n",
              "      --disabled-bg-color: #DDD;\n",
              "  }\n",
              "\n",
              "  [theme=dark] .colab-df-quickchart {\n",
              "      --bg-color: #3B4455;\n",
              "      --fill-color: #D2E3FC;\n",
              "      --hover-bg-color: #434B5C;\n",
              "      --hover-fill-color: #FFFFFF;\n",
              "      --disabled-bg-color: #3B4455;\n",
              "      --disabled-fill-color: #666;\n",
              "  }\n",
              "\n",
              "  .colab-df-quickchart {\n",
              "    background-color: var(--bg-color);\n",
              "    border: none;\n",
              "    border-radius: 50%;\n",
              "    cursor: pointer;\n",
              "    display: none;\n",
              "    fill: var(--fill-color);\n",
              "    height: 32px;\n",
              "    padding: 0;\n",
              "    width: 32px;\n",
              "  }\n",
              "\n",
              "  .colab-df-quickchart:hover {\n",
              "    background-color: var(--hover-bg-color);\n",
              "    box-shadow: 0 1px 2px rgba(60, 64, 67, 0.3), 0 1px 3px 1px rgba(60, 64, 67, 0.15);\n",
              "    fill: var(--button-hover-fill-color);\n",
              "  }\n",
              "\n",
              "  .colab-df-quickchart-complete:disabled,\n",
              "  .colab-df-quickchart-complete:disabled:hover {\n",
              "    background-color: var(--disabled-bg-color);\n",
              "    fill: var(--disabled-fill-color);\n",
              "    box-shadow: none;\n",
              "  }\n",
              "\n",
              "  .colab-df-spinner {\n",
              "    border: 2px solid var(--fill-color);\n",
              "    border-color: transparent;\n",
              "    border-bottom-color: var(--fill-color);\n",
              "    animation:\n",
              "      spin 1s steps(1) infinite;\n",
              "  }\n",
              "\n",
              "  @keyframes spin {\n",
              "    0% {\n",
              "      border-color: transparent;\n",
              "      border-bottom-color: var(--fill-color);\n",
              "      border-left-color: var(--fill-color);\n",
              "    }\n",
              "    20% {\n",
              "      border-color: transparent;\n",
              "      border-left-color: var(--fill-color);\n",
              "      border-top-color: var(--fill-color);\n",
              "    }\n",
              "    30% {\n",
              "      border-color: transparent;\n",
              "      border-left-color: var(--fill-color);\n",
              "      border-top-color: var(--fill-color);\n",
              "      border-right-color: var(--fill-color);\n",
              "    }\n",
              "    40% {\n",
              "      border-color: transparent;\n",
              "      border-right-color: var(--fill-color);\n",
              "      border-top-color: var(--fill-color);\n",
              "    }\n",
              "    60% {\n",
              "      border-color: transparent;\n",
              "      border-right-color: var(--fill-color);\n",
              "    }\n",
              "    80% {\n",
              "      border-color: transparent;\n",
              "      border-right-color: var(--fill-color);\n",
              "      border-bottom-color: var(--fill-color);\n",
              "    }\n",
              "    90% {\n",
              "      border-color: transparent;\n",
              "      border-bottom-color: var(--fill-color);\n",
              "    }\n",
              "  }\n",
              "</style>\n",
              "\n",
              "  <script>\n",
              "    async function quickchart(key) {\n",
              "      const quickchartButtonEl =\n",
              "        document.querySelector('#' + key + ' button');\n",
              "      quickchartButtonEl.disabled = true;  // To prevent multiple clicks.\n",
              "      quickchartButtonEl.classList.add('colab-df-spinner');\n",
              "      try {\n",
              "        const charts = await google.colab.kernel.invokeFunction(\n",
              "            'suggestCharts', [key], {});\n",
              "      } catch (error) {\n",
              "        console.error('Error during call to suggestCharts:', error);\n",
              "      }\n",
              "      quickchartButtonEl.classList.remove('colab-df-spinner');\n",
              "      quickchartButtonEl.classList.add('colab-df-quickchart-complete');\n",
              "    }\n",
              "    (() => {\n",
              "      let quickchartButtonEl =\n",
              "        document.querySelector('#df-86f4a965-be34-47d4-8d17-35dbb0c1ead7 button');\n",
              "      quickchartButtonEl.style.display =\n",
              "        google.colab.kernel.accessAllowed ? 'block' : 'none';\n",
              "    })();\n",
              "  </script>\n",
              "</div>\n",
              "    </div>\n",
              "  </div>\n"
            ],
            "application/vnd.google.colaboratory.intrinsic+json": {
              "type": "dataframe",
              "variable_name": "df"
            }
          },
          "metadata": {},
          "execution_count": 170
        }
      ]
    },
    {
      "cell_type": "markdown",
      "source": [
        "Датасет содержит данные от 170 опрошенных людей. Каждый столбец соответствует оценке утверждения, указанной в анкете, от 1 (никогда) до 5 (всегда). Последний столбец - класс 1 (married) или 0 (divorced). Таким образом, на основании этих данных можно предсказать потенциальный развод."
      ],
      "metadata": {
        "id": "13qkqUFldUPL"
      }
    },
    {
      "cell_type": "markdown",
      "source": [
        "### Вопросы из анкеты\n"
      ],
      "metadata": {
        "id": "rwmcV_y-eAy7"
      }
    },
    {
      "cell_type": "markdown",
      "source": [
        "\n",
        "    When one of our apologies apologizes when our discussions go in a bad direction, the issue does not extend.\n",
        "    I know we can ignore our differences, even if things get hard sometimes.\n",
        "    When we need it, we can take our discussions with my wife from the beginning and correct it.\n",
        "    When I argue with my wife, it will eventually work for me to contact him.\n",
        "    The time I spent with my wife is special for us.\n",
        "    We don't have time at home as partners.\n",
        "    We are like two strangers who share the same environment at home rather than family.\n",
        "    I enjoy our holidays with my wife.\n",
        "    I enjoy traveling with my wife.\n",
        "    My wife and most of our goals are common.\n",
        "    I think that one day in the future, when I look back, I see that my wife and I are in harmony with each other.\n",
        "    My wife and I have similar values in terms of personal freedom.\n",
        "    My husband and I have similar entertainment.\n",
        "    Most of our goals for people (children, friends, etc.) are the same.\n",
        "    Our dreams of living with my wife are similar and harmonious\n",
        "    We're compatible with my wife about what love should be\n",
        "    We share the same views with my wife about being happy in your life\n",
        "    My wife and I have similar ideas about how marriage should be\n",
        "    My wife and I have similar ideas about how roles should be in marriage\n",
        "    My wife and I have similar values in trust\n",
        "    I know exactly what my wife likes.\n",
        "    I know how my wife wants to be taken care of when she's sick.\n",
        "    I know my wife's favorite food.\n",
        "    I can tell you what kind of stress my wife is facing in her life.\n",
        "    I have knowledge of my wife's inner world.\n",
        "    I know my wife's basic concerns.\n",
        "    I know what my wife's current sources of stress are.\n",
        "    I know my wife's hopes and wishes.\n",
        "    I know my wife very well.\n",
        "    I know my wife's friends and their social relationships.\n",
        "    I feel aggressive when I argue with my wife.\n",
        "    When discussing with my wife, I usually use expressions such as …..\n",
        "    I can use negative statements about my wife's personality during our discussions.\n",
        "    I can use offensive expressions during our discussions.\n",
        "    I can insult our discussions.\n",
        "    I can be humiliating when we argue.\n",
        "    My argument with my wife is not calm.\n",
        "    I hate my wife's way of bringing it up.\n",
        "    Fights often occur suddenly.\n",
        "    We're just starting a fight before I know what's going on.\n",
        "    When I talk to my wife about something, my calm suddenly breaks.\n",
        "    When I argue with my wife, it only snaps in and I don't say a word.\n",
        "    I'm mostly thirsty to calm the environment a little bit.\n",
        "    Sometimes I think it's good for me to leave home for a while.\n",
        "    I'd rather stay silent than argue with my wife.\n",
        "    Even if I'm right in the argument, I'm thirsty not to upset the other side.\n",
        "    When I argue with my wife, I remain silent because I am afraid of not being able to control my anger.\n",
        "    I feel right in our discussions.\n",
        "    I have nothing to do with what I've been accused of.\n",
        "    I'm not actually the one who's guilty about what I'm accused of.\n",
        "    I'm not the one who's wrong about problems at home.\n",
        "    I wouldn't hesitate to tell her about my wife's inadequacy.\n",
        "    When I discuss it, I remind her of my wife's inadequate issues.\n",
        "    I'm not afraid to tell her about my wife's incompetence.\n"
      ],
      "metadata": {
        "id": "tWakn-A1eNc4"
      }
    },
    {
      "cell_type": "markdown",
      "source": [
        "### Исследование ответов"
      ],
      "metadata": {
        "id": "oq-ff7ueexoS"
      }
    },
    {
      "cell_type": "code",
      "source": [
        "sns.heatmap(df.corr())"
      ],
      "metadata": {
        "colab": {
          "base_uri": "https://localhost:8080/",
          "height": 498
        },
        "id": "EJjOsKSDe17l",
        "outputId": "e0dee42e-db1a-45e0-9564-91280c1facc7"
      },
      "execution_count": 171,
      "outputs": [
        {
          "output_type": "execute_result",
          "data": {
            "text/plain": [
              "<Axes: >"
            ]
          },
          "metadata": {},
          "execution_count": 171
        },
        {
          "output_type": "display_data",
          "data": {
            "text/plain": [
              "<Figure size 640x480 with 2 Axes>"
            ],
            "image/png": "[encoded data removed]"
          },
          "metadata": {}
        }
      ]
    },
    {
      "cell_type": "markdown",
      "source": [
        "Из корреляционной матрицы видно, что подавляющее большинство ответов положительно коррелирует с откликом и между собой. Это происходит, потому что эти вопросы имеют положительный характер, то есть оценка в 5 (всегда) почти во всех случаях соответствует позитивному положению дел в доме."
      ],
      "metadata": {
        "id": "VFvhINClfVx8"
      }
    },
    {
      "cell_type": "markdown",
      "source": [
        "Однако, количество признаков очень велико, что заметно утяжелит нашу модель. С такой высокой степенью корреляции будет логично воспользоваться уменьшением размерности при помощи PCA."
      ],
      "metadata": {
        "id": "tWRO4GyTf4kj"
      }
    },
    {
      "cell_type": "markdown",
      "source": [
        "# Обучение моделей"
      ],
      "metadata": {
        "id": "j5NTChGvmpvM"
      }
    },
    {
      "cell_type": "markdown",
      "source": [
        " Исследуем разное количество компонент для выбора оптимального варианта."
      ],
      "metadata": {
        "id": "EB_Z7NRYiHYd"
      }
    },
    {
      "cell_type": "code",
      "source": [
        "x_train, x_test, y_train, y_test = train_test_split(df.drop('Class', axis=1), df.Class, test_size=0.25, stratify=df.Class)\n",
        "\n",
        "components = []\n",
        "variance = []\n",
        "for n in range(5, 55):\n",
        "    pca = PCA(svd_solver='full', n_components=n)\n",
        "    pca.fit(x_train, y_train)\n",
        "    components.append(n)\n",
        "    variance.append(pca.explained_variance_ratio_.sum())"
      ],
      "metadata": {
        "id": "C-NLj0DAgJpX"
      },
      "execution_count": 172,
      "outputs": []
    },
    {
      "cell_type": "code",
      "source": [
        "sns.lineplot(x=components, y=variance)"
      ],
      "metadata": {
        "colab": {
          "base_uri": "https://localhost:8080/",
          "height": 468
        },
        "id": "Kmhu-QkghTFE",
        "outputId": "f070062b-25f5-4a96-936a-c623d5a94996"
      },
      "execution_count": 173,
      "outputs": [
        {
          "output_type": "execute_result",
          "data": {
            "text/plain": [
              "<Axes: >"
            ]
          },
          "metadata": {},
          "execution_count": 173
        },
        {
          "output_type": "display_data",
          "data": {
            "text/plain": [
              "<Figure size 640x480 with 1 Axes>"
            ],
            "image/png": "[encoded data removed]"
          },
          "metadata": {}
        }
      ]
    },
    {
      "cell_type": "code",
      "source": [
        "variance[0:9]"
      ],
      "metadata": {
        "colab": {
          "base_uri": "https://localhost:8080/"
        },
        "id": "tlByVpLjlQ0G",
        "outputId": "78b4e5ab-a4ec-4937-bed9-dc20c94df26b"
      },
      "execution_count": 174,
      "outputs": [
        {
          "output_type": "execute_result",
          "data": {
            "text/plain": [
              "[0.8627693683133978,\n",
              " 0.875100499496403,\n",
              " 0.8863345727751802,\n",
              " 0.8960309132035267,\n",
              " 0.9051208864237164,\n",
              " 0.9140483034742658,\n",
              " 0.9220407581026872,\n",
              " 0.9291437621028071,\n",
              " 0.9352695206924255]"
            ]
          },
          "metadata": {},
          "execution_count": 174
        }
      ]
    },
    {
      "cell_type": "markdown",
      "source": [
        "Видно, что даже при использовании 5 главных компонент доля объясненной дисперсии превышает порог в 0.9. Остановимся на 5 компонентах и опробуем разные классификаторы."
      ],
      "metadata": {
        "id": "Bj8fp1gLhaRa"
      }
    },
    {
      "cell_type": "code",
      "source": [
        "pca2 = PCA(svd_solver='full', n_components=5)\n",
        "pca2.fit(x_train, y_train)\n",
        "\n",
        "x_trainsformed = pca2.transform(x_train)\n",
        "x_testformed = pca2.transform(x_test)\n",
        "\n",
        "models = [KNeighborsClassifier(n_neighbors=3), LogisticRegression(random_state=5), SVC(random_state=5), DecisionTreeClassifier(criterion='entropy', random_state=5)]"
      ],
      "metadata": {
        "id": "lOZHpKvZkyXF"
      },
      "execution_count": 175,
      "outputs": []
    },
    {
      "cell_type": "code",
      "source": [
        "for model in models:\n",
        "    model.fit(x_trainsformed, y_train)\n",
        "    pred = model.predict(x_testformed)\n",
        "    print(f1_score(y_test, pred))"
      ],
      "metadata": {
        "colab": {
          "base_uri": "https://localhost:8080/"
        },
        "id": "1O_QQnK8oSPn",
        "outputId": "f5e82716-3d57-41ef-920d-f3bffad302db"
      },
      "execution_count": 176,
      "outputs": [
        {
          "output_type": "stream",
          "name": "stdout",
          "text": [
            "1.0\n",
            "1.0\n",
            "0.975609756097561\n",
            "1.0\n"
          ]
        }
      ]
    },
    {
      "cell_type": "markdown",
      "source": [
        "Видно, что все модели показывают отличные результаты, а дерево принятия решений даже имеет вероятный оверфит. Это закономерно, потому что размер датасета довольно мал, и оценить шанс развода исходя из ответов на представленные вопросы очень легко вследствие высокой коррелированности. Тем не менее, такая коррелированность дает высокую уверенность в результатах предсказаний даже на таком маленьком датасете."
      ],
      "metadata": {
        "id": "iUXVa0nYouex"
      }
    }
  ]
}